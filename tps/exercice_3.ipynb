{
 "cells": [
  {
   "cell_type": "markdown",
   "id": "ab241072",
   "metadata": {},
   "source": [
    "# [Ex. 3 ] \n",
    "\n",
    "Le fichier `movie_metadata.csv` contient des informations au sujet de 5043 films qui ont été extraites de l'IMDB.\n",
    "\n",
    "- 1.\n",
    " - a. Quels sont les 10 réalisateurs qui ont le meilleur score (`imdb_score`) moyen ?\n",
    " - b. Quels sont les 10 pays qui ont le meilleur score (`imdb_score`) moyen ?\n",
    " \n",
    "\n",
    "- 2. \n",
    " - a. Créer une colonne par genre (columne `genres` Action, Adventure...) qui vaut True si le film a ce genre renseigné et False sinon.\n",
    " - b. Calculer le nombre total de films par genre\n",
    " - c. Calculer l'évolution du nombre de films par genre entre 2000 et 2010\n",
    " - d. Calculer l'évolution 'Year to Year' (% d'augmentation entre année N et N+1) du nombre de films pour chaque genre.\n",
    " - e. Faire de même pour chaque pays.\n",
    "  \n",
    "  \n",
    "- 3. On s'intéresser seulement aux films publiés après 2000.\n",
    " - a. Calculer le prix à la minute de chaque film (à partir des colonnes `budget` et `duration`)\n",
    " - b. Quels sont tous les acteurs (renseignés dans les colonnes `actor_X_name`) qui ont joué dans les films qui ont un prix à la minute dans les 10% les plus élevés ? \n",
    "\n",
    "\n",
    "- 4. \n",
    " - a. Quels sont les réalisateurs dont les films ont la rentabilité moyenne (`gross` / `budget`) la plus élevée ?\n",
    " - b. Même question pour les pays.\n",
    "\n",
    "\n",
    "- 5. \n",
    " - a. Plusieurs utilisateurs de l'IMDB ont reporté que les notes seraient gonflées depuis quelques années. Que peut-on calculer pour essayer de s'en assurer ? Proposer deux méthodes.\n",
    " - b. Implémenter ces deux méthodes.\n",
    "\n",
    "\n",
    "- 6. Bâtir un modèle de prédiction de la variable `imdb_score` sur la base des autres variables et des données disponibles a priori (ie, pour réaliser la prédiction d'un film sorti en 2010, on peut utiliser toutes les statistiques des films sortis en 2009)\n"
   ]
  },
  {
   "cell_type": "code",
   "execution_count": 428,
   "id": "0542bb03",
   "metadata": {},
   "outputs": [],
   "source": [
    "df = pd.read_csv(\"../data/imdb/movie_metadata.csv\")"
   ]
  },
  {
   "cell_type": "code",
   "execution_count": 430,
   "id": "07febdac",
   "metadata": {},
   "outputs": [
    {
     "data": {
      "text/plain": [
       "Index(['color', 'director_name', 'num_critic_for_reviews', 'duration',\n",
       "       'director_facebook_likes', 'actor_3_facebook_likes', 'actor_2_name',\n",
       "       'actor_1_facebook_likes', 'gross', 'genres', 'actor_1_name',\n",
       "       'movie_title', 'num_voted_users', 'cast_total_facebook_likes',\n",
       "       'actor_3_name', 'facenumber_in_poster', 'plot_keywords',\n",
       "       'movie_imdb_link', 'num_user_for_reviews', 'language', 'country',\n",
       "       'content_rating', 'budget', 'title_year', 'actor_2_facebook_likes',\n",
       "       'imdb_score', 'aspect_ratio', 'movie_facebook_likes'],\n",
       "      dtype='object')"
      ]
     },
     "execution_count": 430,
     "metadata": {},
     "output_type": "execute_result"
    }
   ],
   "source": [
    "df.columns"
   ]
  },
  {
   "cell_type": "markdown",
   "id": "4ed5f5cf",
   "metadata": {},
   "source": [
    "### Question 2 (méthode 1 - à la main)"
   ]
  },
  {
   "cell_type": "code",
   "execution_count": 164,
   "id": "26da9b85",
   "metadata": {},
   "outputs": [
    {
     "data": {
      "text/plain": [
       "Drama          2594\n",
       "Comedy         1872\n",
       "Thriller       1411\n",
       "Action         1153\n",
       "Romance        1107\n",
       "Adventure       923\n",
       "Crime           889\n",
       "Sci-Fi          616\n",
       "Fantasy         610\n",
       "Horror          565\n",
       "Family          546\n",
       "Mystery         500\n",
       "Biography       293\n",
       "Animation       242\n",
       "Music           214\n",
       "War             213\n",
       "History         207\n",
       "Sport           182\n",
       "Musical         132\n",
       "Documentary     121\n",
       "Western          97\n",
       "Film-Noir         6\n",
       "Short             5\n",
       "News              3\n",
       "Reality-TV        2\n",
       "Game-Show         1\n",
       "dtype: int64"
      ]
     },
     "execution_count": 164,
     "metadata": {},
     "output_type": "execute_result"
    }
   ],
   "source": [
    "import pandas as pd\n",
    "df = pd.read_csv(\"../data/imdb/movie_metadata.csv\")\n",
    "\n",
    "# Toutes les valeurs uniques de genre\n",
    "genres_concatenated = \"|\".join(df[\"genres\"].tolist())\n",
    "genres_unique = list(set(genres_concatenated.split(\"|\")))\n",
    "\n",
    "df[\"genres\"] = df[\"genres\"].str.split(\"|\")  # équivalent à df[\"genres\"].map(lambda s: s.split(\"|\"))\n",
    "\n",
    "for genre_to_test in genres_unique:\n",
    "    df[genre_to_test] = df[\"genres\"].map(\n",
    "        lambda genres_from_movie: genre_to_test in genres_from_movie\n",
    "    )\n",
    "    \n",
    "df[genres_unique].sum().sort_values(ascending=False) # axis=0 param by default"
   ]
  },
  {
   "cell_type": "markdown",
   "id": "2a1383da",
   "metadata": {},
   "source": [
    "#### Question 2 (méthode 2 - Usage \"intermédiaire\" de pd.get_dummies)"
   ]
  },
  {
   "cell_type": "code",
   "execution_count": 165,
   "id": "816d9531",
   "metadata": {},
   "outputs": [
    {
     "data": {
      "text/plain": [
       "Action         1153\n",
       "Adventure       923\n",
       "Animation       242\n",
       "Biography       293\n",
       "Comedy         1872\n",
       "Crime           889\n",
       "Documentary     121\n",
       "Drama          2594\n",
       "Family          546\n",
       "Fantasy         610\n",
       "Film-Noir         6\n",
       "Game-Show         1\n",
       "History         207\n",
       "Horror          565\n",
       "Music           214\n",
       "Musical         132\n",
       "Mystery         500\n",
       "News              3\n",
       "Reality-TV        2\n",
       "Romance        1107\n",
       "Sci-Fi          616\n",
       "Short             5\n",
       "Sport           182\n",
       "Thriller       1411\n",
       "War             213\n",
       "Western          97\n",
       "dtype: int64"
      ]
     },
     "execution_count": 165,
     "metadata": {},
     "output_type": "execute_result"
    }
   ],
   "source": [
    "import pandas as pd\n",
    "df = pd.read_csv(\"../data/imdb/movie_metadata.csv\")\n",
    "# Longue une explication sur cette ligne\n",
    "genres = df['genres'].str.get_dummies(\"|\")\n",
    "df = pd.concat([df, genres], axis=1)\n",
    "genres.sum()"
   ]
  },
  {
   "cell_type": "markdown",
   "id": "1c4aad94",
   "metadata": {},
   "source": [
    "#### Explications .str.get_dummies"
   ]
  },
  {
   "cell_type": "code",
   "execution_count": 166,
   "id": "674bc264",
   "metadata": {},
   "outputs": [],
   "source": [
    "# Get dummies dans le cas simple : \n",
    "df = pd.DataFrame({\"train\": pd.Series([1, 2, 1, 2, 4, 2, 1, 2, 3, 1])})\n",
    "df[\"train\"] = df[\"train\"].map(lambda i: f\"train_{i}\")\n",
    "df = pd.concat([\n",
    "    pd.get_dummies(df[\"train\"]), \n",
    "    df[\"train\"]], axis=1\n",
    ")"
   ]
  },
  {
   "cell_type": "code",
   "execution_count": 87,
   "id": "3c87220f",
   "metadata": {},
   "outputs": [
    {
     "data": {
      "text/html": [
       "<div>\n",
       "<style scoped>\n",
       "    .dataframe tbody tr th:only-of-type {\n",
       "        vertical-align: middle;\n",
       "    }\n",
       "\n",
       "    .dataframe tbody tr th {\n",
       "        vertical-align: top;\n",
       "    }\n",
       "\n",
       "    .dataframe thead th {\n",
       "        text-align: right;\n",
       "    }\n",
       "</style>\n",
       "<table border=\"1\" class=\"dataframe\">\n",
       "  <thead>\n",
       "    <tr style=\"text-align: right;\">\n",
       "      <th></th>\n",
       "      <th>train_1</th>\n",
       "      <th>train_2</th>\n",
       "      <th>train_3</th>\n",
       "      <th>train_4</th>\n",
       "      <th>train_5</th>\n",
       "      <th>train_6</th>\n",
       "      <th>train_new</th>\n",
       "    </tr>\n",
       "  </thead>\n",
       "  <tbody>\n",
       "    <tr>\n",
       "      <th>0</th>\n",
       "      <td>1</td>\n",
       "      <td>0</td>\n",
       "      <td>1</td>\n",
       "      <td>0</td>\n",
       "      <td>0</td>\n",
       "      <td>0</td>\n",
       "      <td>train_1|train_3</td>\n",
       "    </tr>\n",
       "    <tr>\n",
       "      <th>1</th>\n",
       "      <td>0</td>\n",
       "      <td>1</td>\n",
       "      <td>0</td>\n",
       "      <td>1</td>\n",
       "      <td>0</td>\n",
       "      <td>0</td>\n",
       "      <td>train_2|train_4</td>\n",
       "    </tr>\n",
       "    <tr>\n",
       "      <th>2</th>\n",
       "      <td>1</td>\n",
       "      <td>0</td>\n",
       "      <td>1</td>\n",
       "      <td>0</td>\n",
       "      <td>0</td>\n",
       "      <td>0</td>\n",
       "      <td>train_1|train_3</td>\n",
       "    </tr>\n",
       "    <tr>\n",
       "      <th>3</th>\n",
       "      <td>0</td>\n",
       "      <td>1</td>\n",
       "      <td>0</td>\n",
       "      <td>1</td>\n",
       "      <td>0</td>\n",
       "      <td>0</td>\n",
       "      <td>train_2|train_4</td>\n",
       "    </tr>\n",
       "    <tr>\n",
       "      <th>4</th>\n",
       "      <td>0</td>\n",
       "      <td>0</td>\n",
       "      <td>0</td>\n",
       "      <td>1</td>\n",
       "      <td>0</td>\n",
       "      <td>1</td>\n",
       "      <td>train_4|train_6</td>\n",
       "    </tr>\n",
       "    <tr>\n",
       "      <th>5</th>\n",
       "      <td>0</td>\n",
       "      <td>1</td>\n",
       "      <td>0</td>\n",
       "      <td>1</td>\n",
       "      <td>0</td>\n",
       "      <td>0</td>\n",
       "      <td>train_2|train_4</td>\n",
       "    </tr>\n",
       "    <tr>\n",
       "      <th>6</th>\n",
       "      <td>1</td>\n",
       "      <td>0</td>\n",
       "      <td>1</td>\n",
       "      <td>0</td>\n",
       "      <td>0</td>\n",
       "      <td>0</td>\n",
       "      <td>train_1|train_3</td>\n",
       "    </tr>\n",
       "    <tr>\n",
       "      <th>7</th>\n",
       "      <td>0</td>\n",
       "      <td>1</td>\n",
       "      <td>0</td>\n",
       "      <td>1</td>\n",
       "      <td>0</td>\n",
       "      <td>0</td>\n",
       "      <td>train_2|train_4</td>\n",
       "    </tr>\n",
       "    <tr>\n",
       "      <th>8</th>\n",
       "      <td>0</td>\n",
       "      <td>0</td>\n",
       "      <td>1</td>\n",
       "      <td>0</td>\n",
       "      <td>1</td>\n",
       "      <td>0</td>\n",
       "      <td>train_3|train_5</td>\n",
       "    </tr>\n",
       "    <tr>\n",
       "      <th>9</th>\n",
       "      <td>1</td>\n",
       "      <td>0</td>\n",
       "      <td>1</td>\n",
       "      <td>0</td>\n",
       "      <td>0</td>\n",
       "      <td>0</td>\n",
       "      <td>train_1|train_3</td>\n",
       "    </tr>\n",
       "  </tbody>\n",
       "</table>\n",
       "</div>"
      ],
      "text/plain": [
       "   train_1  train_2  train_3  train_4  train_5  train_6        train_new\n",
       "0        1        0        1        0        0        0  train_1|train_3\n",
       "1        0        1        0        1        0        0  train_2|train_4\n",
       "2        1        0        1        0        0        0  train_1|train_3\n",
       "3        0        1        0        1        0        0  train_2|train_4\n",
       "4        0        0        0        1        0        1  train_4|train_6\n",
       "5        0        1        0        1        0        0  train_2|train_4\n",
       "6        1        0        1        0        0        0  train_1|train_3\n",
       "7        0        1        0        1        0        0  train_2|train_4\n",
       "8        0        0        1        0        1        0  train_3|train_5\n",
       "9        1        0        1        0        0        0  train_1|train_3"
      ]
     },
     "execution_count": 87,
     "metadata": {},
     "output_type": "execute_result"
    }
   ],
   "source": [
    "df = pd.DataFrame({\"train\": pd.Series([1, 2, 1, 2, 4, 2, 1, 2, 3, 1])})\n",
    "df[\"train_other\"] = df[\"train\"] + 2\n",
    "df[\"train\"] = df[\"train\"].map(lambda i: f\"train_{i}\")\n",
    "df[\"train_other\"] = df[\"train_other\"].map(lambda i: f\"train_{i}\")\n",
    "df[\"train_new\"] = df[\"train\"] + \"|\" + df[\"train_other\"]\n",
    "df = pd.concat([\n",
    "    df[\"train_new\"].str.get_dummies(\"|\"), df[\"train_new\"]\n",
    "], axis=1)\n",
    "df"
   ]
  },
  {
   "cell_type": "markdown",
   "id": "cd2e9839",
   "metadata": {},
   "source": [
    "#### Question 3"
   ]
  },
  {
   "cell_type": "code",
   "execution_count": 141,
   "id": "42214f04",
   "metadata": {},
   "outputs": [
    {
     "name": "stdout",
     "output_type": "stream",
     "text": [
      "Augmentation du #films entre l'année 2000 et 2010 34.01 % \n"
     ]
    },
    {
     "data": {
      "image/png": "[encoded data removed]",
      "text/plain": [
       "<Figure size 432x288 with 1 Axes>"
      ]
     },
     "metadata": {
      "needs_background": "light"
     },
     "output_type": "display_data"
    }
   ],
   "source": [
    "import pandas as pd\n",
    "import matplotlib.pyplot as plt\n",
    "df = pd.read_csv(\"../data/imdb/movie_metadata.csv\")\n",
    "\n",
    "def get_genre_counts_for_year(df, year):\n",
    "    genres = df[df.title_year==year]['genres'].str.get_dummies(\"|\")\n",
    "    df = pd.concat([df, genres], axis=1)\n",
    "    return genres.sum()\n",
    "\n",
    "genre_counts_2000 = get_genre_counts_for_year(df, 2000)\n",
    "genre_counts_2010 = get_genre_counts_for_year(df, 2010)\n",
    "\n",
    "# Est-on sûr que les genres sont les mêmes dans les deux Séries ?\n",
    "# -> non, mais c'est bien le cas après vérification\n",
    "# on vérifie différence symétrique vide\n",
    "assert len([g for g in genre_counts_2010.index if g not in genre_counts_2000.index]) == 0\n",
    "\n",
    "# On a les mêmes indexes ?\n",
    "# on le test ainsi : \n",
    "assert all(genre_counts_2000.index == genre_counts_2010.index)\n",
    "\n",
    "counts = pd.DataFrame({\"2000\": genre_counts_2000, \"2010\": genre_counts_2010})\n",
    "\n",
    "\n",
    "# EVOLUTION GLOBALE #FILMS:\n",
    "evol_globale = 100*(counts[\"2010\"].sum() - counts[\"2000\"].sum()) / counts[\"2000\"].sum()\n",
    "print(\"Augmentation du #films entre l'année 2000 et 2010\", round(evol_globale, 2), \"% \")\n",
    "\n",
    "# (1+evol)* V_2000 = V_2010\n",
    "# evol = (V_2010 - V_2000) / V_2000\n",
    "counts[\"evol\"] = 100*(counts[\"2010\"] - counts[\"2000\"]) / counts[\"2000\"]\n",
    "\n",
    "counts[\"evol\"].sort_values(ascending=False).plot.barh()\n",
    "plt.axvline(evol_globale, color=\"red\")\n",
    "\n",
    "\n",
    "\n",
    "#################### Calcul de l'année 2000 à 2010\n",
    "\n",
    "\n",
    "df = pd.read_csv(\"../data/imdb/movie_metadata.csv\")\n",
    "# Longue une explication sur cette ligne\n",
    "genres = df['genres'].str.get_dummies(\"|\")\n",
    "df = pd.concat([df, genres], axis=1)\n",
    "\n",
    "\n",
    "\n",
    "genre_counts = df.groupby(\"title_year\")[genres.columns].sum().T\n",
    "genre_counts.columns = genre_counts.columns.map(lambda i : str(int(i)))\n",
    "\n",
    "def evol_year_to_year_plus_1(genre_counts:pd.DataFrame, year:int):\n",
    "        year_str = str(year)\n",
    "        year_plus_1_str = str(year + 1)\n",
    "        return (genre_counts[year_plus_1_str] - genre_counts[year_str]) / genre_counts[year_str]\n",
    "    \n",
    "evols = pd.DataFrame(\n",
    "    [\n",
    "        evol_year_to_year_plus_1(genre_counts, year) \n",
    "        for year in range(2001, 2016)\n",
    "    ])\n",
    "evols.index = range(2000, 2015)\n",
    "evols[[\"Action\", \"Adventure\", \"Family\"]].plot(figsize=(20, 10))"
   ]
  },
  {
   "cell_type": "markdown",
   "id": "c90ab4cd",
   "metadata": {},
   "source": [
    "#### Question bonus\n",
    "- 1. Créer une série avec en index les années et en valeur : le nom du genre qui a le nombre de films le plus élevés\n",
    "- 2. Si égalité, on veut tous les genres concaténés par un '|'"
   ]
  },
  {
   "cell_type": "code",
   "execution_count": 176,
   "id": "d35dfec3",
   "metadata": {},
   "outputs": [],
   "source": [
    "import pandas as pd\n",
    "df = pd.read_csv(\"../data/imdb/movie_metadata.csv\")\n",
    "# Longue une explication sur cette ligne\n",
    "genres = df['genres'].str.get_dummies(\"|\")\n",
    "df = pd.concat([df, genres], axis=1)\n",
    "genre_counts = df.groupby(\"title_year\")[genres.columns].sum()\n",
    "most_popular_genre_per_year = genre_counts.idxmax(axis=1)"
   ]
  },
  {
   "cell_type": "code",
   "execution_count": 192,
   "id": "56d010c3",
   "metadata": {},
   "outputs": [
    {
     "data": {
      "text/plain": [
       "['col1', 'col2']"
      ]
     },
     "execution_count": 192,
     "metadata": {},
     "output_type": "execute_result"
    }
   ],
   "source": [
    "# https://stackoverflow.com/questions/39874501/get-column-names-for-max-values-over-a-certain-row-in-a-pandas-dataframe\n",
    "    \n",
    "test = pd.DataFrame({'col1':[1,2,3],'col2':[3,2,1],'col3':[1,1,1]},index= ['row1','row2','row3'])\n",
    "\n",
    "def get_column_name_for_max_values_of(row):\n",
    "    # Foinctionne, mais pq prendre toutes les lignes...............\n",
    "    return test.loc[:,test.loc[row] == test.loc[row].max()].columns.tolist()\n",
    "\n",
    "\n",
    "# On l'adapte car c'est du n'importe quoi....\n",
    "def get_column_name_for_max_values_of(df_, idx_row):\n",
    "    mask_columns = df_.loc[idx_row] == df_.loc[idx_row].max()\n",
    "    return mask_columns[mask_columns].index.tolist()\n",
    "\n",
    "get_column_name_for_max_values_of(df_=test, idx_row='row2')\n",
    "\n",
    "\n",
    "most_popular_genres = [\n",
    "    get_column_name_for_max_values_of(genre_counts, idx_row)\n",
    "    for idx_row in genre_counts.index\n",
    "]\n",
    "most_popular_genres = pd.Series(most_popular_genres, index=genre_counts.index)"
   ]
  },
  {
   "cell_type": "markdown",
   "id": "a60cd3c2",
   "metadata": {},
   "source": [
    "#### Question 3.a"
   ]
  },
  {
   "cell_type": "code",
   "execution_count": 239,
   "id": "d07e0fef",
   "metadata": {},
   "outputs": [
    {
     "data": {
      "image/png": "[encoded data removed]",
      "text/plain": [
       "<Figure size 432x288 with 1 Axes>"
      ]
     },
     "metadata": {
      "needs_background": "light"
     },
     "output_type": "display_data"
    }
   ],
   "source": [
    "moves_after_2000 = df[df.title_year >= 2000].copy()\n",
    "\n",
    "moves_after_2000[\"dollars_per_minute\"] = moves_after_2000[\"budget\"] / moves_after_2000[\"duration\"]\n",
    "\n",
    "# BUT : on ne voit rien sur l'histogramme car il y a des valeurs peu nombreuses très hautes\n",
    "# qui étire l'axe des x : on veut régler ça\n",
    "# Classe selon prix à la minute\n",
    "\n",
    "# on classe selon le prix à la minute\n",
    "moves_after_2000 = moves_after_2000.sort_values(\"dollars_per_minute\", ascending=True) \n",
    "# on sélectionne les 95% du début de la dataframe (valeurs les moins hautes)\n",
    "moves_after_2000_without_outliers = moves_after_2000.iloc[0: int(0.90*len(moves_after_2000))]\n",
    "# Histogramme\n",
    "moves_after_2000_without_outliers.dollars_per_minute.hist(bins=100)# On représente l'histogramme\n",
    "plt.show()"
   ]
  },
  {
   "cell_type": "markdown",
   "id": "e0742892",
   "metadata": {},
   "source": [
    "#### Question 3.b"
   ]
  },
  {
   "cell_type": "code",
   "execution_count": 251,
   "id": "49532006",
   "metadata": {},
   "outputs": [],
   "source": [
    "# On classe par prix à la minute puis on prends les \"10% prmeières lignes\"\n",
    "actor_columns = [\"actor_1_name\", \"actor_2_name\", \"actor_3_name\"]\n",
    "df_actors = moves_after_2000.sort_values(\"dollars_per_minute\", ascending=False).head(int(0.1*len(moves_after_2000)))[actor_columns]\n",
    "\n",
    "# Apply \n",
    "df_actors.apply(set, axis=0).tolist() # est une liste de set\n",
    "actors = {\n",
    "    actor \n",
    "    for set_of_actors in df_actors.apply(set, axis=0).tolist() \n",
    "    for actor in set_of_actors\n",
    "}\n",
    "\n",
    "# Explication\n",
    "# how to flatten a list of list\n",
    "list_of_list = [[1, 2], [3, 4]]\n",
    "flat_list = [value for sublist in list_of_list for value in sublist]\n",
    "flat_list"
   ]
  },
  {
   "cell_type": "markdown",
   "id": "083f4fd6",
   "metadata": {},
   "source": [
    "#### Question 4 a."
   ]
  },
  {
   "cell_type": "code",
   "execution_count": 263,
   "id": "e94cb063",
   "metadata": {},
   "outputs": [
    {
     "data": {
      "text/plain": [
       "director_name\n",
       "Oren Peli            719447.553333\n",
       "Jonathan Caouette    271565.055046\n",
       "Daniel Myrick        234215.856667\n",
       "Travis Cluff          22756.819000\n",
       "Edward Burns          13768.103673\n",
       "Tobe Hooper           12587.116922\n",
       "William Cottrell       9245.274250\n",
       "Joe Camp               7909.520000\n",
       "Jafar Panahi           6736.800000\n",
       "Alex Kendrick          6196.023283\n",
       "Shane Carruth          6067.000000\n",
       "Morgan Spurlock        6021.929346\n",
       "Jared Hess             5691.928864\n",
       "Robert Townsend        5227.617000\n",
       "John G. Avildsen       4826.334965\n",
       "John Carpenter         4027.914917\n",
       "George Lucas           4001.030958\n",
       "Alfred Hitchcock       3964.564033\n",
       "Neil LaBute            3902.274036\n",
       "John 'Bud' Cardos      3399.000000\n",
       "Name: r, dtype: float64"
      ]
     },
     "execution_count": 263,
     "metadata": {},
     "output_type": "execute_result"
    }
   ],
   "source": [
    "df[\"r\"] = 100*(df[\"gross\"] / df[\"budget\"]) - 1 # rentabilité au sens financier\n",
    "# groupe sur le réalisateur, sélectionne la rentatbilité r, calcul la moyenne par réalisateur, et tri en descending\n",
    "df.groupby(\"director_name\").r.mean().sort_values(ascending=False).head(20)"
   ]
  },
  {
   "cell_type": "markdown",
   "id": "a03985cb",
   "metadata": {},
   "source": [
    "#### Question 4 b."
   ]
  },
  {
   "cell_type": "code",
   "execution_count": 264,
   "id": "049cdd0f",
   "metadata": {},
   "outputs": [
    {
     "data": {
      "text/plain": [
       "country\n",
       "Afghanistan      2449.719565\n",
       "Iran             2168.688370\n",
       "Philippines      1000.014286\n",
       "Ireland           799.772778\n",
       "USA               743.187134\n",
       "Taiwan            427.937880\n",
       "Indonesia         372.193000\n",
       "Argentina         369.503914\n",
       "Canada            315.113038\n",
       "Italy             227.825184\n",
       "Colombia          216.239933\n",
       "Mexico            214.913455\n",
       "South Africa      187.697181\n",
       "UK                184.093935\n",
       "Romania           170.390876\n",
       "Australia         167.704200\n",
       "New Zealand       162.479721\n",
       "France            134.920926\n",
       "Official site     133.792807\n",
       "Peru              126.472402\n",
       "Name: r, dtype: float64"
      ]
     },
     "execution_count": 264,
     "metadata": {},
     "output_type": "execute_result"
    }
   ],
   "source": [
    "df.groupby(\"country\").r.mean().sort_values(ascending=False).head(20)"
   ]
  },
  {
   "cell_type": "markdown",
   "id": "e23049b0",
   "metadata": {},
   "source": [
    "#### Question 5\n",
    "\n",
    "##### Méthode 1\n",
    "- Grouper les films par groupes de n années consécutives (n=2, ou n=5, ou n=10)\n",
    "- Calculer la médiane par groupes d'années\n",
    "- Observer l'évolution de la médiane par goupe d'années\n",
    "\n",
    "- Faire la même chose pour ces deux groupes  : \n",
    "    - 1 goupe constitué de pays occidentaux\n",
    "    - 1 groupe constitué d'autres pays\n",
    "    \n",
    "- ou groupes plus compliqués en regardant un genre \n",
    "\n",
    "\n",
    "\n",
    "##### Méthode 2\n",
    "- Exploiter le fait que les réalisateurs hyperprolifiques (par exemple type Série B dans les années 70-80) ont généralement fait des films qui recueillent des mauvaises notes. Vérifier si ces notes n'auraient pas augmenté avec le temps"
   ]
  },
  {
   "cell_type": "code",
   "execution_count": 336,
   "id": "d08ceda9",
   "metadata": {},
   "outputs": [
    {
     "data": {
      "image/png": "[encoded data removed]",
      "text/plain": [
       "<Figure size 432x288 with 1 Axes>"
      ]
     },
     "metadata": {
      "needs_background": "light"
     },
     "output_type": "display_data"
    }
   ],
   "source": [
    "subset = df#[df[\"genres\"].str.contains(\"Action\")]\n",
    "\n",
    "n = 2\n",
    "# 1 groupe toutes les n années\n",
    "subset[\"title_year_group_10y\"] = subset.title_year.map(lambda y: y - y % n)\n",
    "\n",
    "imdb_score_median_per_year = subset.groupby(\"title_year\").imdb_score.median()\n",
    "imdb_score_median_per_year.plot()\n",
    "plt.ylim(0, 10)\n",
    "plt.show()"
   ]
  },
  {
   "cell_type": "code",
   "execution_count": 337,
   "id": "cffcef91",
   "metadata": {},
   "outputs": [
    {
     "data": {
      "text/plain": [
       "<AxesSubplot:xlabel='title_year'>"
      ]
     },
     "execution_count": 337,
     "metadata": {},
     "output_type": "execute_result"
    },
    {
     "data": {
      "image/png": "[encoded data removed]",
      "text/plain": [
       "<Figure size 432x288 with 1 Axes>"
      ]
     },
     "metadata": {
      "needs_background": "light"
     },
     "output_type": "display_data"
    }
   ],
   "source": [
    "# count : donc colonne sans valeurs nulles\n",
    "movie_count_per_year = subset.groupby(\"title_year\").movie_title.count() \n",
    "movie_count_per_year.plot()"
   ]
  },
  {
   "cell_type": "code",
   "execution_count": 333,
   "id": "0e3e957a",
   "metadata": {},
   "outputs": [
    {
     "data": {
      "image/png": "[encoded data removed]",
      "text/plain": [
       "<Figure size 432x288 with 1 Axes>"
      ]
     },
     "metadata": {
      "needs_background": "light"
     },
     "output_type": "display_data"
    }
   ],
   "source": [
    "def count_higher_than_threshold(serie, threshold):\n",
    "    scores = list(serie)\n",
    "    return len([s for s in scores if s >= threshold]) \n",
    "\n",
    "def count_higher_than_8(x):\n",
    "    return count_higher_than_threshold(x, 8)\n",
    "\n",
    "def count_higher_than_7(x):\n",
    "    return count_higher_than_threshold(x, 7)\n",
    "\n",
    "\n",
    "def frac_higher_than_threshold(serie, threshold):\n",
    "    scores = list(serie)\n",
    "    return len([s for s in scores if s >= threshold]) / len(scores)\n",
    "    \n",
    "def frac_higher_than_8(x):\n",
    "    return frac_higher_than_threshold(x, 8)\n",
    "\n",
    "def frac_higher_than_7(x):\n",
    "    return frac_higher_than_threshold(x, 7)\n",
    "\n",
    "    \n",
    "subset.groupby(\"title_year\").agg({\"imdb_score\": [frac_higher_than_8, frac_higher_than_7] }).plot()\n",
    "plt.ylim(0, 10)\n",
    "plt.show()"
   ]
  },
  {
   "cell_type": "code",
   "execution_count": 379,
   "id": "bff13d70",
   "metadata": {},
   "outputs": [
    {
     "name": "stderr",
     "output_type": "stream",
     "text": [
      "/var/folders/yf/7zryq8v115v8hjpz3_522bvm0000gn/T/ipykernel_40161/1983677629.py:9: SettingWithCopyWarning: \n",
      "A value is trying to be set on a copy of a slice from a DataFrame.\n",
      "Try using .loc[row_indexer,col_indexer] = value instead\n",
      "\n",
      "See the caveats in the documentation: https://pandas.pydata.org/pandas-docs/stable/user_guide/indexing.html#returning-a-view-versus-a-copy\n",
      "  subset[\"title_year_group\"] = subset.title_year.map(lambda y: y - y % n)\n"
     ]
    },
    {
     "data": {
      "text/plain": [
       "<matplotlib.legend.Legend at 0x7fa54c2d4d90>"
      ]
     },
     "execution_count": 379,
     "metadata": {},
     "output_type": "execute_result"
    },
    {
     "data": {
      "image/png": "[encoded data removed]",
      "text/plain": [
       "<Figure size 432x288 with 1 Axes>"
      ]
     },
     "metadata": {
      "needs_background": "light"
     },
     "output_type": "display_data"
    }
   ],
   "source": [
    "# Calculer les proportions de films et non plus les comptes\n",
    "# Filtrer sur des variables comme le pays pour trouver des groupes\n",
    "# au sein desquels une surnotation semble apparaître au cours des années 2000\n",
    "\n",
    "# FILTRER SUR UN GENRE (ou sur des genres)\n",
    "genre = \"Action\"\n",
    "subset = df[df[\"genres\"].str.contains(genre)]\n",
    "\n",
    "\n",
    "# On calcule des groupes d'années\n",
    "n = 5\n",
    "# 1 groupe toutes les n années\n",
    "subset[\"title_year_group\"] = subset.title_year.map(lambda y: y - y % n)\n",
    "\n",
    "\n",
    "\n",
    "count_scores_higher_than_7 = {}\n",
    "count_movies = {}\n",
    "\n",
    "# Pour chaque groupe d'année : \n",
    "for year in subset.title_year_group.unique():\n",
    "    movies_from_group = subset[subset.title_year_group==year].sort_values(\n",
    "    \"budget\", ascending=False\n",
    ")\n",
    "    \n",
    "    # On sélectionne les 20% des films avec le plus gros budget\n",
    "    movies_from_group_top_20_percent_budget = movies_from_group.iloc[\n",
    "        0:int(0.2*movies_from_group.shape[0])\n",
    "    ]\n",
    "    \n",
    "    # Si pas de films => On passe au suivant\n",
    "    if len(movies_from_group_top_20_percent_budget) == 0:\n",
    "        continue\n",
    "    \n",
    "    # On compte le nombre de films avec une note > 7\n",
    "    count_scores_higher_than_7_this_year = movies_from_group_top_20_percent_budget[\n",
    "        movies_from_group_top_20_percent_budget.imdb_score >= 7\n",
    "    ].shape[0] \n",
    "        \n",
    "    count_scores_higher_than_7[year] = count_scores_higher_than_7_this_year\n",
    "    count_movies[year] = len(movies_from_group_top_20_percent_budget)\n",
    "    \n",
    "    \n",
    "pd.Series(count_scores_higher_than_7).sort_index().plot(label=f'{genre} > 7')\n",
    "pd.Series(count_movies).sort_index().plot(label=f'{genre}')\n",
    "plt.legend()"
   ]
  },
  {
   "cell_type": "code",
   "execution_count": 390,
   "id": "9c8404f2",
   "metadata": {},
   "outputs": [
    {
     "name": "stderr",
     "output_type": "stream",
     "text": [
      "/var/folders/yf/7zryq8v115v8hjpz3_522bvm0000gn/T/ipykernel_40161/1069960404.py:13: SettingWithCopyWarning: \n",
      "A value is trying to be set on a copy of a slice from a DataFrame.\n",
      "Try using .loc[row_indexer,col_indexer] = value instead\n",
      "\n",
      "See the caveats in the documentation: https://pandas.pydata.org/pandas-docs/stable/user_guide/indexing.html#returning-a-view-versus-a-copy\n",
      "  subset[\"title_year_group\"] = subset.title_year.map(lambda y: y - y % n)\n"
     ]
    },
    {
     "data": {
      "text/plain": [
       "<matplotlib.legend.Legend at 0x7fa51ea20430>"
      ]
     },
     "execution_count": 390,
     "metadata": {},
     "output_type": "execute_result"
    },
    {
     "data": {
      "image/png": "[encoded data removed]",
      "text/plain": [
       "<Figure size 432x288 with 1 Axes>"
      ]
     },
     "metadata": {
      "needs_background": "light"
     },
     "output_type": "display_data"
    }
   ],
   "source": [
    "# Calculer les proportions de films et non plus les comptes\n",
    "# Filtrer sur des variables comme le pays pour trouver des groupes\n",
    "# au sein desquels une surnotation semble apparaître au cours des années 2000\n",
    "\n",
    "# FILTRER SUR UN GENRE (ou sur des genres)\n",
    "genre = \"Action\"\n",
    "subset = df[df[\"genres\"].str.contains(genre)]\n",
    "\n",
    "\n",
    "# On calcule des groupes d'années\n",
    "n = 5\n",
    "# 1 groupe toutes les n années\n",
    "subset[\"title_year_group\"] = subset.title_year.map(lambda y: y - y % n)\n",
    "\n",
    "\n",
    "percent_scores_higher_than_7_top_20_budget = {}\n",
    "percent_scores_higher_than_7_all = {}\n",
    "\n",
    "# Pour chaque groupe d'année : \n",
    "for year in subset.title_year_group.unique():\n",
    "    movies_from_group = subset[subset.title_year_group==year].sort_values(\n",
    "    \"budget\", ascending=False\n",
    ")\n",
    "    \n",
    "    # On sélectionne les 20% des films avec le plus gros budget\n",
    "    movies_from_group_top_20_percent_budget = movies_from_group.iloc[\n",
    "        0:int(0.2*movies_from_group.shape[0])\n",
    "    ]\n",
    "    \n",
    "    \n",
    "    # Si pas de films => On passe au suivant\n",
    "    if len(movies_from_group_top_20_percent_budget) == 0:\n",
    "        continue\n",
    "    \n",
    "    percent_scores_higher_than_7_top_20_budget[year] = percent_scores_higher_than_7_this_year_top20\n",
    "    percent_scores_higher_than_7_all[year] = percent_scores_higher_than_7_this_year_all\n",
    "    \n",
    "    # On calcule le pourcentage de films avec une note > 7 dans ce groupe d'années\n",
    "    percent_scores_higher_than_7_this_year_all =  movies_from_group[\n",
    "        movies_from_group.imdb_score >= 7\n",
    "    ].shape[0] / len(movies_from_group)\n",
    "    \n",
    "    # On calcule le pourcentage de films avec une note > 7 \n",
    "    # dans ce groupe d'années ET Parmi les films dans le TOP20% des budgets (pour ce groupe d'années)\n",
    "    percent_scores_higher_than_7_this_year_top20 = movies_from_group_top_20_percent_budget[\n",
    "        movies_from_group_top_20_percent_budget.imdb_score >= 7\n",
    "    ].shape[0] / len(movies_from_group_top_20_percent_budget)\n",
    "    \n",
    "    \n",
    "pd.Series(percent_scores_higher_than_7_top_20_budget).sort_index().plot(\n",
    "    label=f'Pourcentage de films ave un score > 7 parmi les 20% les plus coûteux de la période ({genre})'\n",
    ")\n",
    "pd.Series(percent_scores_higher_than_7_all).sort_index().plot(\n",
    "    label=f'Pourcentage de films ave un score > 7 sur toute la période ({genre})'\n",
    ")\n",
    "plt.legend()"
   ]
  },
  {
   "cell_type": "code",
   "execution_count": 425,
   "id": "126f5d1b",
   "metadata": {},
   "outputs": [
    {
     "name": "stderr",
     "output_type": "stream",
     "text": [
      "/var/folders/yf/7zryq8v115v8hjpz3_522bvm0000gn/T/ipykernel_40161/1098068549.py:12: SettingWithCopyWarning: \n",
      "A value is trying to be set on a copy of a slice from a DataFrame.\n",
      "Try using .loc[row_indexer,col_indexer] = value instead\n",
      "\n",
      "See the caveats in the documentation: https://pandas.pydata.org/pandas-docs/stable/user_guide/indexing.html#returning-a-view-versus-a-copy\n",
      "  subset[\"title_year_group\"] = subset.title_year.map(lambda y: y - y % n)\n"
     ]
    },
    {
     "data": {
      "text/plain": [
       "<matplotlib.legend.Legend at 0x7fa5241cc520>"
      ]
     },
     "execution_count": 425,
     "metadata": {},
     "output_type": "execute_result"
    },
    {
     "data": {
      "image/png": "[encoded data removed]",
      "text/plain": [
       "<Figure size 432x288 with 1 Axes>"
      ]
     },
     "metadata": {
      "needs_background": "light"
     },
     "output_type": "display_data"
    }
   ],
   "source": [
    "# Calculer les proportions de films et non plus les comptes\n",
    "# Filtrer sur des variables comme le pays pour trouver des groupes\n",
    "# au sein desquels une surnotation semble apparaître au cours des années 2000\n",
    "\n",
    "# FILTRER SUR UN PAYS\n",
    "subset = df[df[\"country\"]==\"USA\"]\n",
    "\n",
    "\n",
    "# On calcule des groupes d'années\n",
    "n = 5\n",
    "# 1 groupe toutes les n années\n",
    "subset[\"title_year_group\"] = subset.title_year.map(lambda y: y - y % n)\n",
    "\n",
    "\n",
    "percent_scores_higher_than_7_top_20_budget = {}\n",
    "percent_scores_higher_than_7_all = {}\n",
    "\n",
    "# Pour chaque groupe d'année : \n",
    "for year in sorted(subset.title_year_group.unique()):\n",
    "    movies_from_group = subset[subset.title_year_group==year].sort_values(\n",
    "    \"budget\", ascending=False\n",
    ")\n",
    "    \n",
    "    # On sélectionne les 20% des films avec le plus gros budget\n",
    "    movies_from_group_top_20_percent_budget = movies_from_group.iloc[\n",
    "        0:int(0.2*movies_from_group.shape[0])\n",
    "    ]\n",
    "    \n",
    "    # Si pas de films => On passe au suivant\n",
    "    if len(movies_from_group_top_20_percent_budget) == 0:\n",
    "        continue\n",
    "    \n",
    "    percent_scores_higher_than_7_top_20_budget[year] = percent_scores_higher_than_7_this_year_top20\n",
    "    percent_scores_higher_than_7_all[year] = percent_scores_higher_than_7_this_year_all\n",
    "    \n",
    "    # On calcule le pourcentage de films avec une note > 7 dans ce groupe d'années\n",
    "    percent_scores_higher_than_7_this_year_all =  movies_from_group[\n",
    "        movies_from_group.imdb_score >= 7\n",
    "    ].shape[0] / len(movies_from_group)\n",
    "    \n",
    "    # On calcule le pourcentage de films avec une note > 7 \n",
    "    # dans ce groupe d'années ET Parmi les films dans le TOP20% des budgets (pour ce groupe d'années)\n",
    "    percent_scores_higher_than_7_this_year_top20 = movies_from_group_top_20_percent_budget[\n",
    "        movies_from_group_top_20_percent_budget.imdb_score >= 7\n",
    "    ].shape[0] / len(movies_from_group_top_20_percent_budget)\n",
    "    \n",
    "    \n",
    "    \n",
    "pd.Series(percent_scores_higher_than_7_top_20_budget).sort_index().plot(\n",
    "    label=f'Pourcentage de films avec un score > 7 parmi les 20% les plus coûteux de la période'\n",
    ")\n",
    "pd.Series(percent_scores_higher_than_7_all).sort_index().plot(\n",
    "    label=f'Pourcentage de films avec un score > 7 sur toute la période'\n",
    ")\n",
    "plt.legend()"
   ]
  },
  {
   "cell_type": "code",
   "execution_count": 426,
   "id": "3f238cd1",
   "metadata": {},
   "outputs": [
    {
     "data": {
      "text/plain": [
       "<AxesSubplot:>"
      ]
     },
     "execution_count": 426,
     "metadata": {},
     "output_type": "execute_result"
    },
    {
     "data": {
      "image/png": "[encoded data removed]",
      "text/plain": [
       "<Figure size 432x288 with 1 Axes>"
      ]
     },
     "metadata": {
      "needs_background": "light"
     },
     "output_type": "display_data"
    }
   ],
   "source": [
    "import numpy as np\n",
    "\n",
    "\n",
    "movies_decade_2005_USA = df[\n",
    "    (df.title_year_group==2005) &\n",
    "    (df.country==\"USA\") \n",
    "]\n",
    "\n",
    "movies_decade_2005_USA.imdb_score.hist()\n",
    "\n",
    "\n",
    "movies_decade_2005_USA_top_20_budget = movies_decade_2005_USA[\n",
    "    movies_decade_2005_USA.budget > np.nanpercentile(movies_decade_2005_USA.budget, 80)\n",
    "]\n",
    "movies_decade_2005_USA_top_20_budget.imdb_score.hist()\n",
    "\n",
    "\n",
    "\n",
    "movies_decade_2005_USA_top_20_budget = movies_decade_2005_USA[\n",
    "    movies_decade_2005_USA.budget > np.nanpercentile(movies_decade_2005_USA.budget, 80)\n",
    "]\n",
    "movies_decade_2005_USA_top_20_budget.imdb_score.hist()"
   ]
  },
  {
   "cell_type": "code",
   "execution_count": null,
   "id": "258c7f96",
   "metadata": {},
   "outputs": [],
   "source": []
  }
 ],
 "metadata": {
  "kernelspec": {
   "display_name": "Python 3 (ipykernel)",
   "language": "python",
   "name": "python3"
  },
  "language_info": {
   "codemirror_mode": {
    "name": "ipython",
    "version": 3
   },
   "file_extension": ".py",
   "mimetype": "text/x-python",
   "name": "python",
   "nbconvert_exporter": "python",
   "pygments_lexer": "ipython3",
   "version": "3.9.7"
  }
 },
 "nbformat": 4,
 "nbformat_minor": 5
}
